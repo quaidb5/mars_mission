{
 "cells": [
  {
   "cell_type": "code",
   "execution_count": 42,
   "metadata": {},
   "outputs": [],
   "source": [
    "import pandas as pd\n",
    "from bs4 import BeautifulSoup as bs\n",
    "from splinter import Browser\n",
    "from splinter.exceptions import ElementDoesNotExist\n",
    "import requests"
   ]
  },
  {
   "cell_type": "code",
   "execution_count": 45,
   "metadata": {},
   "outputs": [],
   "source": [
    "executable_path = {'executable_path': 'chromedriver.exe'}\n",
    "browser = Browser('chrome', **executable_path, headless=False)"
   ]
  },
  {
   "cell_type": "code",
   "execution_count": 44,
   "metadata": {},
   "outputs": [],
   "source": [
    "# this dictionary will hold everything we pull from all the sites\n",
    "scraped_data = {}"
   ]
  },
  {
   "cell_type": "code",
   "execution_count": 46,
   "metadata": {},
   "outputs": [
    {
     "name": "stdout",
     "output_type": "stream",
     "text": [
      "NASA's Curiosity Rover Finds an Ancient Oasis on Mars\n"
     ]
    }
   ],
   "source": [
    "# site 1 -\n",
    "news_url = \"https://mars.nasa.gov/news/\" # probably need to replace this since it redirects\n",
    "browser.visit(news_url)\n",
    "# use beautiful soup to parse the url above\n",
    "html = browser.html\n",
    "soup = bs(html,'html.parser')\n",
    "for n in range(1):\n",
    "    news_title = soup.find('div',class_=\"content_title\").text\n",
    "    scraped_data = {'Title':news_title}\n",
    "    print(news_title)"
   ]
  },
  {
   "cell_type": "code",
   "execution_count": 5,
   "metadata": {},
   "outputs": [
    {
     "name": "stdout",
     "output_type": "stream",
     "text": [
      "New evidence suggests salty, shallow ponds once dotted a Martian crater — a sign of the planet's drying climate.\n"
     ]
    }
   ],
   "source": [
    "\n",
    "for n in range(1):\n",
    "    html=browser.html\n",
    "    soup=bs(html,'html.parser')\n",
    "\n",
    "    body=soup.find('div',class_=\"article_teaser_body\")\n",
    "body_text = body.text\n",
    "scraped_data = {'Title':news_title,\n",
    "                'Body':body_text}\n",
    "print(body_text)"
   ]
  },
  {
   "cell_type": "code",
   "execution_count": 40,
   "metadata": {},
   "outputs": [],
   "source": [
    "# site 2 - https://www.jpl.nasa.gov/spaceimages/?search=&category=Mars\n",
    "url = 'https://www.jpl.nasa.gov/spaceimages/?search=&category=Mars'\n",
    "s_url = 'https://www.jpl.nasa.gov'\n",
    "\n",
    "browser.visit(url)\n",
    "# xpath = '//a[@class=\"button fancybox\"]'\n",
    "# browser.find_by_xpath(xpath).click()\n",
    "html=browser.html\n",
    "soup=bs(html,'html.parser')\n",
    "\n"
   ]
  },
  {
   "cell_type": "code",
   "execution_count": 41,
   "metadata": {},
   "outputs": [],
   "source": [
    "featured_image = soup.find('article',class_=\"carousel_item\")['style']\n",
    "# featured_image_path = s_url + featured_image\n",
    "\n",
    "featured_image = featured_image[23:-3]\n",
    "featured_image_path = s_url + featured_image"
   ]
  },
  {
   "cell_type": "code",
   "execution_count": null,
   "metadata": {},
   "outputs": [],
   "source": [
    "# site 3 - https://twitter.com/marswxreport?lang=en\n",
    "url = 'https://twitter.com/marswxreport?lang=en'\n",
    "browser.visit(url)\n",
    "# grab the latest tweet and be careful its a weather tweet\n",
    "html=browser.html\n",
    "soup=bs(html,'html.parser')\n",
    "\n",
    "tweet = soup.find('p',class_='tweet-text')\n",
    "tweet = tweet.find(text=True, recursive=False)\n",
    "\n",
    "print(tweet)"
   ]
  },
  {
   "cell_type": "code",
   "execution_count": null,
   "metadata": {},
   "outputs": [],
   "source": [
    "# site 4\n",
    "facts_url = 'https://space-facts.com/mars/'\n",
    "\n",
    "# use pandas to parse the table\n",
    "\n",
    "facts_df = pd.read_html(facts_url)[0]\n",
    "\n",
    "# convert facts_df to a html string and add to dictionary."
   ]
  },
  {
   "cell_type": "code",
   "execution_count": null,
   "metadata": {},
   "outputs": [],
   "source": [
    "table_content = facts_df.to_html()\n",
    "\n",
    "table_content"
   ]
  },
  {
   "cell_type": "code",
   "execution_count": null,
   "metadata": {},
   "outputs": [],
   "source": [
    "# site 5\n",
    "# url = https://astrogeology.usgs.gov/search/results?q=hemisphere+enhanced&k1=target&v1=Mars\n",
    "# use bs4 to scrape the title and url and add to dictionary\n",
    "\n",
    "# Example:\n",
    "hemisphere_image_urls = [\n",
    "    {\"title\": \"Valles Marineris Hemisphere\", \"img_url\": \"...\"},\n",
    "    {\"title\": \"Cerberus Hemisphere\", \"img_url\": \"...\"},\n",
    "    {\"title\": \"Schiaparelli Hemisphere\", \"img_url\": \"...\"},\n",
    "    {\"title\": \"Syrtis Major Hemisphere\", \"img_url\": \"...\"},\n",
    "]"
   ]
  },
  {
   "cell_type": "code",
   "execution_count": null,
   "metadata": {},
   "outputs": [],
   "source": [
    "# Image 1\n",
    "url = 'https://astrogeology.usgs.gov/search/results?q=hemisphere+enhanced&k1=target&v1=Mars'\n",
    "s_url = 'https://astrogeology.usgs.gov'\n",
    "browser.visit(url)\n",
    "# browser.click_link_by_text('Cerberus Hemisphere Enhanced')\n",
    "# browser.click_link_by_href(\"/search/map/Mars/Viking/cerberus_enhanced\")\n",
    "xpath = '//*[@id=\"product-section\"]/div[2]/div[1]/div/a'\n",
    "browser.find_by_xpath(xpath).click()\n",
    "\n",
    "html=browser.html\n",
    "soup=bs(html,'html.parser')\n",
    "# featured_image = soup.find('div',class_=\"fancybox-inner\").find('img')['src']\n",
    "cerberus = soup.find('div',class_=\"container\").find_all('img')[2]['src']\n",
    "cerberus_path = s_url + cerberus\n",
    "print(cerberus_path)"
   ]
  },
  {
   "cell_type": "code",
   "execution_count": null,
   "metadata": {},
   "outputs": [],
   "source": [
    "# Image 2\n",
    "url = 'https://astrogeology.usgs.gov/search/results?q=hemisphere+enhanced&k1=target&v1=Mars'\n",
    "s_url = 'https://astrogeology.usgs.gov'\n",
    "browser.visit(url)\n",
    "# browser.click_link_by_text('Cerberus Hemisphere Enhanced')\n",
    "# browser.click_link_by_href(\"/search/map/Mars/Viking/cerberus_enhanced\")\n",
    "xpath = '//*[@id=\"product-section\"]/div[2]/div[2]/div/a'\n",
    "browser.find_by_xpath(xpath).click()\n",
    "\n",
    "html=browser.html\n",
    "soup=bs(html,'html.parser')\n",
    "\n",
    "schiaparelli = soup.find('div',class_=\"container\").find_all('img')[2]['src']\n",
    "schiaparelli_path = s_url + schiaparelli\n",
    "print(schiaparelli_path)"
   ]
  },
  {
   "cell_type": "code",
   "execution_count": null,
   "metadata": {},
   "outputs": [],
   "source": [
    "# Image 3\n",
    "url = 'https://astrogeology.usgs.gov/search/results?q=hemisphere+enhanced&k1=target&v1=Mars'\n",
    "s_url = 'https://astrogeology.usgs.gov'\n",
    "browser.visit(url)\n",
    "# browser.click_link_by_text('Cerberus Hemisphere Enhanced')\n",
    "# browser.click_link_by_href(\"/search/map/Mars/Viking/cerberus_enhanced\")\n",
    "xpath = '//*[@id=\"product-section\"]/div[2]/div[3]/div/a'\n",
    "browser.find_by_xpath(xpath).click()\n",
    "\n",
    "html=browser.html\n",
    "soup=bs(html,'html.parser')\n",
    "\n",
    "syrtis = soup.find('div',class_=\"container\").find_all('img')[2]['src']\n",
    "syrtis_path = s_url + syrtis\n",
    "print(syrtis_path)"
   ]
  },
  {
   "cell_type": "code",
   "execution_count": null,
   "metadata": {},
   "outputs": [],
   "source": [
    "# Image 4\n",
    "url = 'https://astrogeology.usgs.gov/search/results?q=hemisphere+enhanced&k1=target&v1=Mars'\n",
    "s_url = 'https://astrogeology.usgs.gov'\n",
    "browser.visit(url)\n",
    "# browser.click_link_by_text('Cerberus Hemisphere Enhanced')\n",
    "# browser.click_link_by_href(\"/search/map/Mars/Viking/cerberus_enhanced\")\n",
    "xpath = '//*[@id=\"product-section\"]/div[2]/div[4]/div/a'\n",
    "browser.find_by_xpath(xpath).click()\n",
    "\n",
    "html=browser.html\n",
    "soup=bs(html,'html.parser')\n",
    "\n",
    "valles = soup.find('div',class_=\"container\").find_all('img')[2]['src']\n",
    "valles_path = s_url + valles\n",
    "print(valles_path)"
   ]
  },
  {
   "cell_type": "code",
   "execution_count": null,
   "metadata": {},
   "outputs": [],
   "source": [
    "scraped_data = {'Title':news_title,\n",
    "                'Body':body_text,\n",
    "                'Feature Image':featured_image_path,\n",
    "                'Weather':mars_weather,\n",
    "                'Table':table_content,\n",
    "                'Cerebus':cerberus_path,\n",
    "                'Schiaparelli':schiaparelli_path,\n",
    "                'Syrtis':syrtis_path,\n",
    "                'Valles':valles_path}"
   ]
  },
  {
   "cell_type": "code",
   "execution_count": null,
   "metadata": {},
   "outputs": [],
   "source": [
    "print(scraped_data)"
   ]
  },
  {
   "cell_type": "code",
   "execution_count": null,
   "metadata": {},
   "outputs": [],
   "source": []
  },
  {
   "cell_type": "code",
   "execution_count": null,
   "metadata": {},
   "outputs": [],
   "source": []
  },
  {
   "cell_type": "code",
   "execution_count": null,
   "metadata": {},
   "outputs": [],
   "source": []
  }
 ],
 "metadata": {
  "kernelspec": {
   "display_name": "Python 3",
   "language": "python",
   "name": "python3"
  },
  "language_info": {
   "codemirror_mode": {
    "name": "ipython",
    "version": 3
   },
   "file_extension": ".py",
   "mimetype": "text/x-python",
   "name": "python",
   "nbconvert_exporter": "python",
   "pygments_lexer": "ipython3",
   "version": "3.6.9"
  }
 },
 "nbformat": 4,
 "nbformat_minor": 2
}
